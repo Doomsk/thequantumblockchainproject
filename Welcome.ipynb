{
 "cells": [
  {
   "cell_type": "code",
   "execution_count": 16,
   "metadata": {},
   "outputs": [],
   "source": [
    "from qutip import *\n",
    "import matplotlib.pyplot as plt\n",
    "from cqc.pythonLib import CQCConnection"
   ]
  },
  {
   "cell_type": "code",
   "execution_count": 10,
   "metadata": {},
   "outputs": [
    {
     "data": {
      "text/latex": [
       "Quantum object: dims = [[2], [1]], shape = (2, 1), type = ket\\begin{equation*}\\left(\\begin{array}{*{11}c}0.0\\\\1.0\\\\\\end{array}\\right)\\end{equation*}"
      ],
      "text/plain": [
       "Quantum object: dims = [[2], [1]], shape = (2, 1), type = ket\n",
       "Qobj data =\n",
       "[[0.]\n",
       " [1.]]"
      ]
     },
     "execution_count": 10,
     "metadata": {},
     "output_type": "execute_result"
    }
   ],
   "source": [
    "basis(2,1)"
   ]
  },
  {
   "cell_type": "code",
   "execution_count": 15,
   "metadata": {
    "scrolled": true
   },
   "outputs": [
    {
     "data": {
      "image/png": "[encoded data removed]",
      "text/plain": [
       "<Figure size 432x288 with 1 Axes>"
      ]
     },
     "metadata": {
      "needs_background": "light"
     },
     "output_type": "display_data"
    }
   ],
   "source": [
    "plt.plot([1, 2, 3, 4])\n",
    "plt.ylabel('some numbers')\n",
    "plt.show()"
   ]
  },
  {
   "cell_type": "markdown",
   "metadata": {},
   "source": [
    "## Markdown\n",
    "\n",
    "### LateX\n",
    "\n",
    "$$e^x=\\sum_{i=0}^\\infty \\frac{1}{i!}x^i$$"
   ]
  },
  {
   "cell_type": "code",
   "execution_count": 6,
   "metadata": {},
   "outputs": [
    {
     "name": "stdout",
     "output_type": "stream",
     "text": [
      "|--------------------------------------|\n",
      "| App Alice: Measurement outcome is: 0 |\n",
      "|--------------------------------------|\n"
     ]
    }
   ],
   "source": [
    "# Initialize the connection\n",
    "with CQCConnection(\"Alice\") as Alice:\n",
    "\n",
    "    # Create an EPR pair\n",
    "    q = Alice.createEPR(\"Bob\")\n",
    "\n",
    "    # Measure qubit\n",
    "    m = q.measure()\n",
    "    to_print = \"App {}: Measurement outcome is: {}\".format(Alice.name, m)\n",
    "    print(\"|\" + \"-\" * (len(to_print) + 2) + \"|\")\n",
    "    print(\"| \" + to_print + \" |\")\n",
    "    print(\"|\" + \"-\" * (len(to_print) + 2) + \"|\")"
   ]
  },
  {
   "cell_type": "code",
   "execution_count": null,
   "metadata": {},
   "outputs": [],
   "source": [
    "# Initialize the connection\n",
    "with CQCConnection(\"Bob\") as Bob:\n",
    "\n",
    "    # Receive qubit\n",
    "    q = Bob.recvEPR()\n",
    "\n",
    "    # Measure qubit\n",
    "    m = q.measure()\n",
    "    to_print = \"App {}: Measurement outcome is: {}\".format(Bob.name, m)\n",
    "    print(\"|\" + \"-\" * (len(to_print) + 2) + \"|\")\n",
    "    print(\"| \" + to_print + \" |\")\n",
    "    print(\"|\" + \"-\" * (len(to_print) + 2) + \"|\")"
   ]
  }
 ],
 "metadata": {
  "kernelspec": {
   "display_name": "Python 3",
   "language": "python",
   "name": "python3"
  },
  "language_info": {
   "codemirror_mode": {
    "name": "ipython",
    "version": 3
   },
   "file_extension": ".py",
   "mimetype": "text/x-python",
   "name": "python",
   "nbconvert_exporter": "python",
   "pygments_lexer": "ipython3",
   "version": "3.7.3"
  }
 },
 "nbformat": 4,
 "nbformat_minor": 2
}
